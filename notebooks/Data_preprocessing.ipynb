{
 "cells": [
  {
   "cell_type": "code",
   "execution_count": 52,
   "id": "7cfdfea8-305d-47dd-ae76-4977610fa885",
   "metadata": {},
   "outputs": [],
   "source": [
    "import pandas as pd\n",
    "import numpy as np\n",
    "import matplotlib.pyplot as plt\n",
    "import seaborn as sns\n",
    "from pathlib import Path\n",
    "import os.path"
   ]
  },
  {
   "cell_type": "code",
   "execution_count": 65,
   "id": "b3bda65a-d768-4e49-a886-13d579d1ae1c",
   "metadata": {},
   "outputs": [],
   "source": [
    "training_data_path = Path('/data/Lung Disease Dataset/train/Viral Pneumonia')"
   ]
  },
  {
   "cell_type": "code",
   "execution_count": 66,
   "id": "e1204f77-1e69-4843-8191-ae2c7a56480b",
   "metadata": {},
   "outputs": [
    {
     "data": {
      "text/plain": [
       "WindowsPath('/data/Lung Disease Dataset/train/Viral Pneumonia')"
      ]
     },
     "execution_count": 66,
     "metadata": {},
     "output_type": "execute_result"
    }
   ],
   "source": [
    "training_data_path"
   ]
  },
  {
   "cell_type": "code",
   "execution_count": 67,
   "id": "4d33a634-f4b6-4e24-b236-659003b9e918",
   "metadata": {},
   "outputs": [],
   "source": [
    "train_filepath_list = list(training_data_path.glob(r'**/*.jp*'))"
   ]
  },
  {
   "cell_type": "code",
   "execution_count": 49,
   "id": "6a7e82d3-b354-453e-8b25-0d0ef3ba95b1",
   "metadata": {},
   "outputs": [],
   "source": [
    "training_data_path = Path('/data/Lung Disease Dataset/train')\n",
    "train_filepath_list = list(training_data_path.glob(r'**/*.jp*'))\n",
    "train_class_list = list(map(lambda x : os.path.split(os.path.split(x)[0])[1], train_filepath_list))\n",
    "\n",
    "# Validation Data Filepath\n",
    "valdiation_data_path = Path('/data/Lung Disease Dataset/val')\n",
    "valdiation_filepath_list = list(valdiation_data_path.glob(r'**/*.jp*'))\n",
    "validation_class_list = list(map(lambda x : os.path.split(os.path.split(x)[0])[1], valdiation_filepath_list))\n",
    "\n",
    "# Test Data Filepath\n",
    "test_data_path = Path('/data/Lung Disease Dataset/test')\n",
    "test_filepath_list = list(test_data_path.glob(r'**/*.jp*'))\n",
    "test_class_list = list(map(lambda x : os.path.split(os.path.split(x)[0])[1], test_filepath_list))"
   ]
  },
  {
   "cell_type": "code",
   "execution_count": 50,
   "id": "2e82d6c6-2924-40dd-a882-ac62c8b6b040",
   "metadata": {},
   "outputs": [],
   "source": [
    "# Creating an empty DataFrame with specified column names\n",
    "final_df = pd.DataFrame(columns=['filepath', 'class', 'type'])\n",
    "\n",
    "# Creating a DataFrame for training data with file paths, classes, and type 'train'\n",
    "train_df = [{'filepath': str(filepath), 'class': class_, 'type': 'train'} for filepath, class_ in zip(train_filepath_list, train_class_list)]\n",
    "\n",
    "# Creating a DataFrame for testing data with file paths, classes, and type 'test'\n",
    "test_df = [{'filepath': str(filepath), 'class': class_, 'type': 'test'} for filepath, class_ in zip(test_filepath_list, test_class_list)]\n",
    "\n",
    "# Creating a DataFrame for validation data with file paths, classes, and type 'valid'\n",
    "valid_df = [{'filepath': str(filepath), 'class': class_, 'type': 'valid'} for filepath, class_ in zip(valdiation_filepath_list, validation_class_list)]\n",
    "\n",
    "# Concatenating the three DataFrames (train_df, valid_df, test_df) to final_df\n",
    "final_df = pd.concat([final_df, pd.DataFrame(train_df), pd.DataFrame(valid_df), pd.DataFrame(test_df)])"
   ]
  },
  {
   "cell_type": "code",
   "execution_count": null,
   "id": "e9c26afa-d938-40f7-bced-5637acbc4dfe",
   "metadata": {},
   "outputs": [],
   "source": []
  }
 ],
 "metadata": {
  "kernelspec": {
   "display_name": "Python 3 (ipykernel)",
   "language": "python",
   "name": "python3"
  },
  "language_info": {
   "codemirror_mode": {
    "name": "ipython",
    "version": 3
   },
   "file_extension": ".py",
   "mimetype": "text/x-python",
   "name": "python",
   "nbconvert_exporter": "python",
   "pygments_lexer": "ipython3",
   "version": "3.11.7"
  }
 },
 "nbformat": 4,
 "nbformat_minor": 5
}
