{
 "cells": [
  {
   "cell_type": "code",
   "execution_count": 17,
   "id": "7cfdfea8-305d-47dd-ae76-4977610fa885",
   "metadata": {},
   "outputs": [],
   "source": [
    "import pandas as pd\n",
    "import numpy as np\n",
    "import matplotlib.pyplot as plt\n",
    "import seaborn as sns\n",
    "from pathlib import Path\n",
    "import os.path\n",
    "import glob"
   ]
  },
  {
   "cell_type": "code",
   "execution_count": 2,
   "id": "6a7e82d3-b354-453e-8b25-0d0ef3ba95b1",
   "metadata": {},
   "outputs": [],
   "source": [
    "training_data_path = Path('/data/Lung Disease Dataset/train/')\n",
    "train_filepath_list = list(training_data_path.glob(r'**/*.jp*'))\n",
    "train_class_list = list(map(lambda x : os.path.split(os.path.split(x)[0])[1], train_filepath_list))\n",
    "\n",
    "# Validation Data Filepath\n",
    "valdiation_data_path = Path('/data/Lung Disease Dataset/val/')\n",
    "valdiation_filepath_list = list(valdiation_data_path.glob(r'**/*.jp*'))\n",
    "validation_class_list = list(map(lambda x : os.path.split(os.path.split(x)[0])[1], valdiation_filepath_list))\n",
    "\n",
    "# Test Data Filepath\n",
    "test_data_path = Path('/data/Lung Disease Dataset/test/')\n",
    "test_filepath_list = list(test_data_path.glob(r'**/*.jp*'))\n",
    "test_class_list = list(map(lambda x : os.path.split(os.path.split(x)[0])[1], test_filepath_list))"
   ]
  },
  {
   "cell_type": "code",
   "execution_count": 4,
   "id": "2e82d6c6-2924-40dd-a882-ac62c8b6b040",
   "metadata": {},
   "outputs": [],
   "source": [
    "# Creating an empty DataFrame with specified column names\n",
    "final_df = pd.DataFrame(columns=['filepath', 'class', 'type'])\n",
    "\n",
    "# Creating a DataFrame for training data with file paths, classes, and type 'train'\n",
    "train_df = [{'filepath': str(filepath), 'class': class_, 'type': 'train'} for filepath, class_ in zip(train_filepath_list, train_class_list)]\n",
    "\n",
    "# Creating a DataFrame for testing data with file paths, classes, and type 'test'\n",
    "test_df = [{'filepath': str(filepath), 'class': class_, 'type': 'test'} for filepath, class_ in zip(test_filepath_list, test_class_list)]\n",
    "\n",
    "# Creating a DataFrame for validation data with file paths, classes, and type 'valid'\n",
    "valid_df = [{'filepath': str(filepath), 'class': class_, 'type': 'valid'} for filepath, class_ in zip(valdiation_filepath_list, validation_class_list)]\n",
    "\n",
    "# Concatenating the three DataFrames (train_df, valid_df, test_df) to final_df\n",
    "final_df = pd.concat([final_df, pd.DataFrame(train_df), pd.DataFrame(valid_df), pd.DataFrame(test_df)])"
   ]
  },
  {
   "cell_type": "code",
   "execution_count": null,
   "id": "20dac5ca-d460-41a8-b0f3-d0024ec62c11",
   "metadata": {},
   "outputs": [],
   "source": [
    "final_df.head()"
   ]
  },
  {
   "cell_type": "code",
   "execution_count": null,
   "id": "8bd65c11-d36d-4d19-a9a3-ca46208542b4",
   "metadata": {},
   "outputs": [],
   "source": [
    "sns.countplot(data=final_df, x='class', hue='type')"
   ]
  },
  {
   "cell_type": "code",
   "execution_count": null,
   "id": "1d756dbf-21da-4c78-9118-b42beefbf21c",
   "metadata": {},
   "outputs": [],
   "source": [
    "final_df.groupby('type').size().plot(kind='bar', color='green')\n",
    "plt.title('Image count for different data split')\n",
    "plt.gca().spines[['top', 'right']].set_visible(False)"
   ]
  },
  {
   "cell_type": "code",
   "execution_count": null,
   "id": "57d62f1a-a8b9-44b6-9783-58d25de5ac33",
   "metadata": {},
   "outputs": [],
   "source": [
    "sample_df = final_df.sample(5 * 5, random_state=42)\n",
    "fig, axes = plt.subplots(5, 5, figsize=(12, 12))\n",
    "for ax, img_path, title in zip(axes.flat, sample_df['filepath'], sample_df['class']):\n",
    "    img = plt.imread(img_path)\n",
    "    ax.imshow(img)\n",
    "    ax.set_title(title)\n",
    "    ax.axis('off')\n",
    "\n",
    "fig.tight_layout()\n",
    "plt.show()\n"
   ]
  },
  {
   "cell_type": "code",
   "execution_count": null,
   "id": "9a67e1b6-f0bf-40df-99c9-a487742db9da",
   "metadata": {},
   "outputs": [],
   "source": [
    "train_gen_instance = tf.keras.preprocessing.image.ImageDataGenerator(\n",
    "    rescale=1./255,\n",
    "    width_shift_range=0.2,\n",
    "    height_shift_range=0.2,\n",
    "    zoom_range=0.2\n",
    ")\n",
    "val_gen_instance = tf.keras.preprocessing.image.ImageDataGenerator(rescale=1./255)\n",
    "test_gen_instance = tf.keras.preprocessing.image.ImageDataGenerator(rescale=1./255)"
   ]
  },
  {
   "cell_type": "code",
   "execution_count": null,
   "id": "cdfb3ffb-5b66-4815-8b3b-09acebdf0b24",
   "metadata": {},
   "outputs": [],
   "source": [
    "train_df = final_df[final_df['type'] == 'train'].drop('type', axis=1)\n",
    "train_images = train_gen_instance.flow_from_dataframe(\n",
    "    dataframe=train_df,\n",
    "    x_col='filepath',\n",
    "    y_col='class',\n",
    "    target_size=(224, 224),\n",
    "    batch_size=32,\n",
    "    color_mode=\"grayscale\",\n",
    "    class_mode='categorical'\n",
    ")\n",
    "\n",
    "valid_df = final_df[final_df['type'] == 'valid'].drop('type', axis=1)\n",
    "valid_images = val_gen_instance.flow_from_dataframe(\n",
    "    dataframe=valid_df,\n",
    "    x_col='filepath',\n",
    "    y_col='class',\n",
    "    target_size=(224, 224),\n",
    "    batch_size=32,\n",
    "    color_mode=\"grayscale\",\n",
    "    class_mode='categorical'\n",
    ")\n",
    "test_df = final_df[final_df['type'] == 'test'].drop('type', axis=1)\n",
    "test_images = test_gen_instance.flow_from_dataframe(\n",
    "    dataframe=test_df,\n",
    "    x_col='filepath',\n",
    "    y_col='class',\n",
    "    target_size=(224, 224),\n",
    "    batch_size=32,\n",
    "    color_mode=\"grayscale\",\n",
    "    class_mode='categorical'\n",
    ")"
   ]
  }
 ],
 "metadata": {
  "kernelspec": {
   "display_name": "Python 3 (ipykernel)",
   "language": "python",
   "name": "python3"
  },
  "language_info": {
   "codemirror_mode": {
    "name": "ipython",
    "version": 3
   },
   "file_extension": ".py",
   "mimetype": "text/x-python",
   "name": "python",
   "nbconvert_exporter": "python",
   "pygments_lexer": "ipython3",
   "version": "3.11.7"
  }
 },
 "nbformat": 4,
 "nbformat_minor": 5
}
